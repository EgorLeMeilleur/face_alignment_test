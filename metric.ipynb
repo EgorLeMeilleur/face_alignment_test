{
 "cells": [
  {
   "cell_type": "code",
   "execution_count": 10,
   "metadata": {},
   "outputs": [],
   "source": [
    "import cv2\n",
    "import numpy as np\n",
    "import dlib\n",
    "\n",
    "def read_pts(file_path):\n",
    "    with open(file_path, 'r') as f:\n",
    "        lines = f.readlines()\n",
    "    \n",
    "    landmarks = []\n",
    "\n",
    "    for line in lines[3:-1]:\n",
    "        x, y = map(float, line.strip().split())\n",
    "        landmarks.append([x, y])\n",
    "    \n",
    "    return np.array(landmarks)\n",
    "def draw_keypoints(image, landmarks, true_points, color=(0, 255, 0), radius=2, thickness=-1):\n",
    "    image_out = image.copy()\n",
    "    for (x, y) in landmarks:\n",
    "        cv2.circle(image_out, (int(x), int(y)), radius, color, thickness)\n",
    "    for (x, y) in true_points:\n",
    "        cv2.circle(image_out, (int(x), int(y)), radius, color, thickness)\n",
    "    return image_out\n",
    "def evaluate_dlib(predictor, files, detector):\n",
    "    predictions = []\n",
    "    gt = []\n",
    "    normalizations = []\n",
    "    for file in files:\n",
    "        from PIL import Image\n",
    "        image = np.array(Image.open(file[0]))\n",
    "        faces = detector(image)\n",
    "        if len(faces) == 0:\n",
    "            w, h = image.shape[:2]\n",
    "            face_rect = dlib.rectangle(0, 0, w, h)\n",
    "        else:\n",
    "            face_rect = faces[0]\n",
    "        x1, y1, x2, y2 = face_rect.left(), face_rect.top(), face_rect.right(), face_rect.bottom()\n",
    "        shape = predictor(image, face_rect)\n",
    "        pred_points = np.array([[p.x, p.y] for p in shape.parts()])\n",
    "        true_points = read_pts(file[1])\n",
    "        H = y2 - y1\n",
    "        W = x2 - x1\n",
    "        norm_factor = np.sqrt(H * W)\n",
    "        predictions.append(pred_points)\n",
    "        gt.append(true_points)\n",
    "        normalizations.append(norm_factor)\n",
    "\n",
    "    return np.array(predictions), np.array(gt), np.array(normalizations)\n",
    "\n",
    "def count_ced(predicted_points, gt_points, normalizations):\n",
    "    ceds = []\n",
    "    for preds, gts, normalization in zip(predicted_points, gt_points, normalizations):\n",
    "        x_pred, y_pred = preds[:, ::2], preds[:, 1::2]\n",
    "        x_gt, y_gt = gts[:, ::2], gts[:, 1::2]\n",
    "        n_points = x_pred.shape[0]\n",
    "        diff_x = [x_gt[i] - x_pred[i] for i in range(n_points)]\n",
    "        diff_y = [y_gt[i] - y_pred[i] for i in range(n_points)]\n",
    "        dist = np.sqrt(np.square(diff_x) + np.square(diff_y))\n",
    "        avg_norm_dist = np.sum(dist) / (n_points * normalization)\n",
    "        ceds.append(avg_norm_dist)\n",
    "    ceds = np.sort(ceds)\n",
    "\n",
    "    return ceds\n"
   ]
  },
  {
   "cell_type": "code",
   "execution_count": 11,
   "metadata": {},
   "outputs": [
    {
     "name": "stdout",
     "output_type": "stream",
     "text": [
      "model 0.9090113735783028\n",
      "model 0.9365974418924499\n",
      "dlib 0.92250034383166\n"
     ]
    }
   ],
   "source": [
    "from torch.utils.data import DataLoader\n",
    "import torch\n",
    "from dataset import FaceLandmarksDataset\n",
    "from model import FaceAlignmentModel\n",
    "\n",
    "def evaluate_model(model, loader):\n",
    "    predictions = []\n",
    "    gt = []\n",
    "    normalizations = []\n",
    "    model.eval()\n",
    "    with torch.no_grad():\n",
    "        for batch in loader:\n",
    "            images = batch[\"image\"].to('cuda')\n",
    "            landmarks = batch[\"landmarks\"]\n",
    "            scale = batch[\"scale\"]\n",
    "            preds = model(images)\n",
    "            for i in range(preds.shape[0]):\n",
    "                face_rect = batch[\"face_rect\"][i].cpu().numpy()\n",
    "                scale_i = scale[i].cpu().numpy()\n",
    "                pred_points = preds[i].cpu().numpy() * scale_i\n",
    "                pred_points = pred_points + np.array([face_rect[0], face_rect[1]])\n",
    "                true_points = landmarks[i].cpu().numpy() * scale_i\n",
    "                true_points = true_points + np.array([face_rect[0], face_rect[1]])\n",
    "                H = face_rect[3] - face_rect[1]\n",
    "                W = face_rect[2] - face_rect[0]\n",
    "                norm_factor = np.sqrt(H * W)\n",
    "                predictions.append(pred_points)\n",
    "                gt.append(true_points)\n",
    "                normalizations.append(norm_factor)\n",
    "\n",
    "    return np.array(predictions), np.array(gt), np.array(normalizations)\n",
    "\n",
    "predictor = dlib.shape_predictor(\"data/shape_predictor_68_face_landmarks.dat\")\n",
    "detector = dlib.get_frontal_face_detector()\n",
    "files = []\n",
    "import config\n",
    "for ds_name, folder in config.TEST_FOLDERS.items():\n",
    "    files = []\n",
    "    for ext in [\"*.jpg\", \"*.png\"]:\n",
    "        for img_path in folder.glob(ext):\n",
    "            pts_path = img_path.with_suffix(\".pts\")\n",
    "            if pts_path.exists() and len(read_pts(str(pts_path))) == 68:\n",
    "                files.append((img_path, pts_path))\n",
    "\n",
    "    dataset = FaceLandmarksDataset(files, train=False)\n",
    "    loader = DataLoader(dataset, batch_size=config.BATCH_SIZE, shuffle=False, num_workers=config.NUM_WORKERS)\n",
    "    \n",
    "    model = FaceAlignmentModel.load_from_checkpoint('outputs/checkpoints/efficientnet_mse.ckpt', map_location=torch.device('cuda'))\n",
    "    preds, gt, normalizations = evaluate_model(model, loader)\n",
    "    ceds = count_ced(preds, gt, normalizations)\n",
    "    thresholds = np.linspace(0, 1, 100)\n",
    "    ced_curve = np.array([np.mean(ceds < thr) for thr in thresholds])\n",
    "    auc_model = np.trapezoid(ced_curve, thresholds)\n",
    "\n",
    "    print('model', auc_model)\n",
    "    \n",
    "    if ds_name.lower() == \"menpo\":\n",
    "        preds, gt, normalizations = evaluate_dlib(predictor, files, detector)\n",
    "        ceds = count_ced(preds, gt, normalizations)\n",
    "        ced_curve = np.array([np.mean(ceds < thr) for thr in thresholds])\n",
    "        auc_dlib = np.trapezoid(ced_curve, thresholds)\n",
    "\n",
    "        print('dlib', auc_dlib)\n",
    "\n",
    "        # proportion = np.arange(ceds.shape[0], dtype=np.float32) / ceds.shape[0]\n",
    "        # under_thr = ceds > 0.08\n",
    "        # last_idx = len(ceds)\n",
    "        # if len(np.flatnonzero(under_thr)) > 0:\n",
    "        #     last_idx = np.flatnonzero(under_thr)[0]\n",
    "        # under_thr_range = range(last_idx)\n",
    "        # aucs = []\n",
    "\n",
    "        # auc = 0\n",
    "        # proportions = np.arange(len(ceds), dtype=np.float32) / len(ceds)\n",
    "        # assert (len(proportions) > 0)\n",
    "\n",
    "        # step = 0.01\n",
    "        # for thr in np.arange(0.0, 1.0, step):\n",
    "        #     gt_indexes = [idx for idx, e in enumerate(ceds) if e >= thr]\n",
    "        #     if len(gt_indexes) > 0:\n",
    "        #         first_gt_idx = gt_indexes[0]\n",
    "        #     else:\n",
    "        #         first_gt_idx = len(ceds) - 1\n",
    "        #     auc += proportions[first_gt_idx] * step\n",
    "        # aucs.append(auc)"
   ]
  },
  {
   "cell_type": "code",
   "execution_count": 3,
   "metadata": {},
   "outputs": [
    {
     "data": {
      "text/plain": [
       "np.float64(0.92250034383166)"
      ]
     },
     "execution_count": 3,
     "metadata": {},
     "output_type": "execute_result"
    }
   ],
   "source": [
    "auc_dlib"
   ]
  },
  {
   "cell_type": "code",
   "execution_count": 4,
   "metadata": {},
   "outputs": [
    {
     "data": {
      "text/plain": [
       "[<matplotlib.lines.Line2D at 0x1fb2d360800>]"
      ]
     },
     "execution_count": 4,
     "metadata": {},
     "output_type": "execute_result"
    },
    {
     "data": {
      "image/png": "[encoded data removed]",
      "text/plain": [
       "<Figure size 640x480 with 1 Axes>"
      ]
     },
     "metadata": {},
     "output_type": "display_data"
    }
   ],
   "source": [
    "import matplotlib.pyplot as plt\n",
    "thresholds = np.linspace(0, 0.08, 100)\n",
    "ced_curve = np.array([np.mean(ceds < thr) for thr in thresholds])\n",
    "plt.plot(thresholds, ced_curve, label=f'dlib (AUC: {auc_dlib:.4f})')"
   ]
  }
 ],
 "metadata": {
  "kernelspec": {
   "display_name": "venv",
   "language": "python",
   "name": "python3"
  },
  "language_info": {
   "codemirror_mode": {
    "name": "ipython",
    "version": 3
   },
   "file_extension": ".py",
   "mimetype": "text/x-python",
   "name": "python",
   "nbconvert_exporter": "python",
   "pygments_lexer": "ipython3",
   "version": "3.12.4"
  }
 },
 "nbformat": 4,
 "nbformat_minor": 2
}

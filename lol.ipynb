{
 "cells": [
  {
   "cell_type": "code",
   "execution_count": 15,
   "metadata": {},
   "outputs": [],
   "source": [
    "import dlib\n",
    "import cv2\n",
    "import numpy as np\n",
    "import os\n",
    "def get_face_rect(image):\n",
    "    detector = dlib.get_frontal_face_detector()\n",
    "    faces = detector(image)\n",
    "    if len(faces) == 0:\n",
    "        h, w = image.shape[:2]\n",
    "        return dlib.rectangle(0, 0, w, h)\n",
    "    return faces[0]\n",
    "\n",
    "def draw_keypoints(image, landmarks, box=None, color=(0, 255, 0), radius=2, thickness=-1):\n",
    "    image_out = image.copy()\n",
    "    for (x, y) in landmarks:\n",
    "        cv2.circle(image_out, (int(x), int(y)), radius, color, thickness)\n",
    "    if box is not None:\n",
    "        cv2.rectangle(image_out, (box.left(), box.top()), (box.right(), box.bottom()), color, 2)\n",
    "    return image_out\n",
    "\n",
    "def read_pts(file_path):\n",
    "    with open(file_path, 'r') as f:\n",
    "        lines = f.readlines()\n",
    "    \n",
    "    landmarks = []\n",
    "\n",
    "    for line in lines[3:-1]:\n",
    "        x, y = map(float, line.strip().split())\n",
    "        landmarks.append([x, y])\n",
    "    \n",
    "    return np.array(landmarks)"
   ]
  },
  {
   "cell_type": "code",
   "execution_count": 38,
   "metadata": {},
   "outputs": [
    {
     "data": {
      "text/plain": [
       "39"
      ]
     },
     "execution_count": 38,
     "metadata": {},
     "output_type": "execute_result"
    }
   ],
   "source": [
    "len(read_pts('data/Menpo/train/aflw__face_39822.pts'))"
   ]
  },
  {
   "cell_type": "code",
   "execution_count": 39,
   "metadata": {},
   "outputs": [
    {
     "data": {
      "text/plain": [
       "68"
      ]
     },
     "execution_count": 39,
     "metadata": {},
     "output_type": "execute_result"
    }
   ],
   "source": [
    "len(read_pts('data/Menpo/train/fddb__image2661_1.pts'))"
   ]
  },
  {
   "cell_type": "code",
   "execution_count": 47,
   "metadata": {},
   "outputs": [
    {
     "data": {
      "text/plain": [
       "(898, 661)"
      ]
     },
     "execution_count": 47,
     "metadata": {},
     "output_type": "execute_result"
    }
   ],
   "source": [
    "count1, count2 = 0, 0\n",
    "folder = 'data/Menpo/test'\n",
    "for pts_path in os.listdir(folder):\n",
    "    pts = os.path.join(folder, pts_path)\n",
    "    if not pts.endswith('.pts'):\n",
    "        continue\n",
    "    count1 += 1\n",
    "    a = len(read_pts(pts))\n",
    "    if (len(read_pts(pts)) == 68):\n",
    "        count2 += 1\n",
    "count1, count2"
   ]
  },
  {
   "cell_type": "code",
   "execution_count": 34,
   "metadata": {},
   "outputs": [
    {
     "data": {
      "text/plain": [
       "(3292, 3292)"
      ]
     },
     "execution_count": 34,
     "metadata": {},
     "output_type": "execute_result"
    }
   ],
   "source": [
    "files = []\n",
    "count1, count2 = 0, 0\n",
    "folder = 'data/300W/train'\n",
    "for pts_path in os.listdir(folder):\n",
    "    pts = os.path.join(folder, pts_path)\n",
    "    if not pts.endswith('.pts'):\n",
    "        continue\n",
    "    count1 += 1\n",
    "    if len(read_pts(pts) == 68):\n",
    "        count2 += 1\n",
    "count1, count2"
   ]
  },
  {
   "cell_type": "code",
   "execution_count": 48,
   "metadata": {},
   "outputs": [
    {
     "ename": "TypeError",
     "evalue": "object of type 'bool' has no len()",
     "output_type": "error",
     "traceback": [
      "\u001b[31m---------------------------------------------------------------------------\u001b[39m",
      "\u001b[31mTypeError\u001b[39m                                 Traceback (most recent call last)",
      "\u001b[36mCell\u001b[39m\u001b[36m \u001b[39m\u001b[32mIn[48]\u001b[39m\u001b[32m, line 1\u001b[39m\n\u001b[32m----> \u001b[39m\u001b[32m1\u001b[39m \u001b[38;5;28;43mlen\u001b[39;49m\u001b[43m(\u001b[49m\u001b[38;5;28;43;01mTrue\u001b[39;49;00m\u001b[43m)\u001b[49m\n",
      "\u001b[31mTypeError\u001b[39m: object of type 'bool' has no len()"
     ]
    }
   ],
   "source": [
    "len(True)"
   ]
  }
 ],
 "metadata": {
  "kernelspec": {
   "display_name": "venv",
   "language": "python",
   "name": "python3"
  },
  "language_info": {
   "codemirror_mode": {
    "name": "ipython",
    "version": 3
   },
   "file_extension": ".py",
   "mimetype": "text/x-python",
   "name": "python",
   "nbconvert_exporter": "python",
   "pygments_lexer": "ipython3",
   "version": "3.12.3"
  }
 },
 "nbformat": 4,
 "nbformat_minor": 2
}

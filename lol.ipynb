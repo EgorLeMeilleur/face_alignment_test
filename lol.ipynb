{
 "cells": [
  {
   "cell_type": "code",
   "execution_count": 9,
   "metadata": {},
   "outputs": [],
   "source": [
    "import cv2\n",
    "import numpy as np\n",
    "import dlib\n",
    "\n",
    "def read_pts(file_path):\n",
    "    with open(file_path, 'r') as f:\n",
    "        lines = f.readlines()\n",
    "    \n",
    "    landmarks = []\n",
    "\n",
    "    for line in lines[3:-1]:\n",
    "        x, y = map(float, line.strip().split())\n",
    "        landmarks.append([x, y])\n",
    "    \n",
    "    return np.array(landmarks)\n",
    "def draw_keypoints(image, landmarks, true_points, color=(0, 255, 0), radius=2, thickness=-1):\n",
    "    image_out = image.copy()\n",
    "    for (x, y) in landmarks:\n",
    "        cv2.circle(image_out, (int(x), int(y)), radius, color, thickness)\n",
    "    for (x, y) in true_points:\n",
    "        cv2.circle(image_out, (int(x), int(y)), radius, color, thickness)\n",
    "    return image_out\n",
    "def evaluate_dlib(predictor, files, detector):\n",
    "    predictions = []\n",
    "    gt = []\n",
    "    normalizations = []\n",
    "    for file in files:\n",
    "        from PIL import Image\n",
    "        image = np.array(Image.open(file[0]))\n",
    "        faces = detector(image)\n",
    "        if len(faces) == 0:\n",
    "            w, h = image.shape[:2]\n",
    "            face_rect = dlib.rectangle(0, 0, w, h)\n",
    "        else:\n",
    "            face_rect = faces[0]\n",
    "        x1, y1, x2, y2 = face_rect.left(), face_rect.top(), face_rect.right(), face_rect.bottom()\n",
    "        shape = predictor(image, face_rect)\n",
    "        pred_points = np.array([[p.x, p.y] for p in shape.parts()])\n",
    "        true_points = read_pts(file[1])\n",
    "        H = y2 - y1\n",
    "        W = x2 - x1\n",
    "        norm_factor = np.sqrt(H * W)\n",
    "        predictions.append(pred_points)\n",
    "        gt.append(true_points)\n",
    "        normalizations.append(norm_factor)\n",
    "\n",
    "    return np.array(predictions), np.array(gt), np.array(normalizations)\n",
    "\n",
    "def count_ced(predicted_points, gt_points, normalizations):\n",
    "    ceds = []\n",
    "    for preds, gts, normalization in zip(predicted_points, gt_points, normalizations):\n",
    "        x_pred, y_pred = preds[:, ::2], preds[:, 1::2]\n",
    "        x_gt, y_gt = gts[:, ::2], gts[:, 1::2]\n",
    "        n_points = x_pred.shape[0]\n",
    "        diff_x = [x_gt[i] - x_pred[i] for i in range(n_points)]\n",
    "        diff_y = [y_gt[i] - y_pred[i] for i in range(n_points)]\n",
    "        dist = np.sqrt(np.square(diff_x) + np.square(diff_y))\n",
    "        avg_norm_dist = np.sum(dist) / (n_points * normalization)\n",
    "        ceds.append(avg_norm_dist)\n",
    "    ceds = np.sort(ceds)\n",
    "\n",
    "    return ceds\n"
   ]
  },
  {
   "cell_type": "code",
   "execution_count": 10,
   "metadata": {},
   "outputs": [],
   "source": [
    "predictor = dlib.shape_predictor(\"data/shape_predictor_68_face_landmarks.dat\")\n",
    "detector = dlib.get_frontal_face_detector()\n",
    "files = []\n",
    "import config\n",
    "for ds_name, folder in config.TEST_FOLDERS.items():\n",
    "    files = []\n",
    "    for ext in [\"*.jpg\", \"*.png\"]:\n",
    "        for img_path in folder.glob(ext):\n",
    "            pts_path = img_path.with_suffix(\".pts\")\n",
    "            if pts_path.exists() and len(read_pts(str(pts_path))) == 68:\n",
    "                files.append((img_path, pts_path))\n",
    "    if ds_name.lower() == \"menpo\":\n",
    "        preds, gt, normalizations = evaluate_dlib(predictor, files, detector)\n",
    "        ceds = count_ced(preds, gt, normalizations)\n",
    "        thresholds = np.linspace(0, 0.08, 1000)\n",
    "        ced_curve = np.array([np.mean(ceds < thr) for thr in thresholds])\n",
    "        auc_dlib = np.trapezoid(ced_curve, thresholds)"
   ]
  },
  {
   "cell_type": "code",
   "execution_count": 11,
   "metadata": {},
   "outputs": [
    {
     "name": "stdout",
     "output_type": "stream",
     "text": [
      "0.04089372276966831\n"
     ]
    },
    {
     "data": {
      "text/plain": [
       "[<matplotlib.lines.Line2D at 0x13a57731220>]"
      ]
     },
     "execution_count": 11,
     "metadata": {},
     "output_type": "execute_result"
    },
    {
     "data": {
      "image/png": "[encoded data removed]",
      "text/plain": [
       "<Figure size 640x480 with 1 Axes>"
      ]
     },
     "metadata": {},
     "output_type": "display_data"
    }
   ],
   "source": [
    "print(auc_dlib)\n",
    "import matplotlib.pyplot as plt\n",
    "plt.plot(thresholds, ced_curve, label=f'dlib (AUC: {auc_dlib:.4f})')"
   ]
  },
  {
   "cell_type": "code",
   "execution_count": 14,
   "metadata": {},
   "outputs": [
    {
     "data": {
      "text/plain": [
       "np.float64(0.37907321805626887)"
      ]
     },
     "execution_count": 14,
     "metadata": {},
     "output_type": "execute_result"
    }
   ],
   "source": [
    "np.trapezoid(ced_curve, np.linspace(0, 1, 100))"
   ]
  }
 ],
 "metadata": {
  "kernelspec": {
   "display_name": "venv",
   "language": "python",
   "name": "python3"
  },
  "language_info": {
   "codemirror_mode": {
    "name": "ipython",
    "version": 3
   },
   "file_extension": ".py",
   "mimetype": "text/x-python",
   "name": "python",
   "nbconvert_exporter": "python",
   "pygments_lexer": "ipython3",
   "version": "3.12.4"
  }
 },
 "nbformat": 4,
 "nbformat_minor": 2
}
